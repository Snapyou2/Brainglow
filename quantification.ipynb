{
 "cells": [
  {
   "cell_type": "markdown",
   "metadata": {},
   "source": [
    "# Brain Region Intensity Quantification\n",
    "\n",
    "This notebook performs intensity quantification for brain regions using:\n",
    "- registered_atlas.tiff (Allen atlas labels mask by brainreg, can be obtained using a reference image like autofluorescence at 561nm)\n",
    "- downsampled.tiff (brain image that holds your signal)\n",
    "- structures.csv (region names, from the allen atlas project)\n",
    "- volumes.csv (region volumes, computed by brainreg)"
   ]
  },
  {
   "cell_type": "code",
   "execution_count": 1,
   "metadata": {},
   "outputs": [],
   "source": [
    "import numpy as np\n",
    "import pandas as pd\n",
    "import tifffile\n",
    "import dask.array as da\n",
    "from dask.diagnostics import ProgressBar\n",
    "from tqdm.notebook import tqdm"
   ]
  },
  {
   "cell_type": "code",
   "execution_count": null,
   "metadata": {},
   "outputs": [],
   "source": [
    "# Read the image data\n",
    "print(\"Loading atlas and brain image...\")\n",
    "atlas = tifffile.imread('registered_atlas.tiff')\n",
    "brain = tifffile.imread('downsampled.tiff')\n",
    "\n",
    "# Convert to dask arrays for parallel processing\n",
    "atlas_da = da.from_array(atlas)\n",
    "brain_da = da.from_array(brain)\n",
    "\n",
    "# Read CSV files\n",
    "print(\"Loading structure and volume data...\")\n",
    "structures_df = pd.read_csv('structures.csv')\n",
    "volumes_df = pd.read_csv('volumes.csv')\n",
    "\n",
    "# Create a mapping from structure name to ID\n",
    "name_to_id = dict(zip(structures_df['name'], structures_df['id']))"
   ]
  },
  {
   "cell_type": "markdown",
   "metadata": {},
   "source": [
    "### Calculation function for each region with Dask and atlas mask"
   ]
  },
  {
   "cell_type": "code",
   "execution_count": 3,
   "metadata": {},
   "outputs": [],
   "source": [
    "def calculate_region_intensity(region_id):\n",
    "    \"\"\"Calculate total intensity for a given region ID using Dask.\"\"\"\n",
    "    # Create mask for the region\n",
    "    mask = atlas_da == region_id\n",
    "    \n",
    "    # Calculate total intensity (multiply brain image by mask and sum)\n",
    "    total_intensity = (brain_da * mask).sum()\n",
    "    \n",
    "    return total_intensity.compute()"
   ]
  },
  {
   "cell_type": "markdown",
   "metadata": {},
   "source": [
    "### Actual calculation loop"
   ]
  },
  {
   "cell_type": "code",
   "execution_count": null,
   "metadata": {},
   "outputs": [],
   "source": [
    "# Get unique region IDs from the atlas\n",
    "region_ids = np.unique(atlas)\n",
    "region_ids = region_ids[region_ids != 0]  # Remove background (0) from atlas\n",
    "\n",
    "# Calculate intensities for all regions\n",
    "print(\"Calculating intensities for each region... This will take some time.\")\n",
    "results = []\n",
    "\n",
    "with tqdm(total=len(region_ids), desc=\"Processing regions\", unit=\"region\") as pbar:\n",
    "    for region_id in region_ids:\n",
    "        # Get region name from structures.csv\n",
    "        region_name = structures_df[structures_df['id'] == region_id]['name'].iloc[0] \\\n",
    "            if len(structures_df[structures_df['id'] == region_id]) > 0 else f'Unknown_{region_id}'\n",
    "        \n",
    "        # Get volume from volumes.csv using the region name\n",
    "        volume = volumes_df[volumes_df['structure_name'] == region_name]['total_volume_mm3'].iloc[0] \\\n",
    "            if len(volumes_df[volumes_df['structure_name'] == region_name]) > 0 else 0\n",
    "        \n",
    "        # Calculate total intensity\n",
    "        total_intensity = calculate_region_intensity(region_id)\n",
    "        \n",
    "        # Calculate intensity per volume (semi-quantitative)\n",
    "        intensity_per_volume = total_intensity / volume if volume > 0 else 0\n",
    "        results.append({\n",
    "            'structure_name': region_name,\n",
    "            'total_intensity': total_intensity,\n",
    "            'volume_mm3': volume,\n",
    "            'intensity_per_volume': intensity_per_volume\n",
    "        })\n",
    "        pbar.update(1)\n",
    "        pbar.set_postfix({\"Last region\": region_name, \"Intensity\": total_intensity})"
   ]
  },
  {
   "cell_type": "markdown",
   "metadata": {},
   "source": [
    "### Dump into quanti.csv"
   ]
  },
  {
   "cell_type": "code",
   "execution_count": null,
   "metadata": {},
   "outputs": [],
   "source": [
    "# Create final DataFrame and save to CSV\n",
    "results_df = pd.DataFrame(results)\n",
    "results_df.to_csv('quanti.csv', index=False)\n",
    "print(\"Results saved to quanti.csv\")\n",
    "results_df.head()"
   ]
  }
 ],
 "metadata": {
  "kernelspec": {
   "display_name": "napari-env",
   "language": "python",
   "name": "python3"
  },
  "language_info": {
   "codemirror_mode": {
    "name": "ipython",
    "version": 3
   },
   "file_extension": ".py",
   "mimetype": "text/x-python",
   "name": "python",
   "nbconvert_exporter": "python",
   "pygments_lexer": "ipython3",
   "version": "3.10.16"
  }
 },
 "nbformat": 4,
 "nbformat_minor": 4
}
